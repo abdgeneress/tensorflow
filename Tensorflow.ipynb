{
 "cells": [
  {
   "cell_type": "code",
   "execution_count": 26,
   "metadata": {},
   "outputs": [],
   "source": [
    "import tensorflow as tf\n",
    "import numpy as np"
   ]
  },
  {
   "cell_type": "code",
   "execution_count": 2,
   "metadata": {},
   "outputs": [],
   "source": [
    "#matrix\n",
    "#create a graph\n",
    "sess = tf.Session()"
   ]
  },
  {
   "cell_type": "code",
   "execution_count": 3,
   "metadata": {},
   "outputs": [
    {
     "data": {
      "text/plain": [
       "array([[1., 0., 0.],\n",
       "       [0., 1., 0.],\n",
       "       [0., 0., 1.]], dtype=float32)"
      ]
     },
     "execution_count": 3,
     "metadata": {},
     "output_type": "execute_result"
    }
   ],
   "source": [
    "#identity matrix\n",
    "id_mat = tf.diag([1.0,1.0,1.0])\n",
    "sess.run(id_mat)"
   ]
  },
  {
   "cell_type": "code",
   "execution_count": 5,
   "metadata": {},
   "outputs": [
    {
     "data": {
      "text/plain": [
       "array([[-0.7621303 , -0.23353502, -0.47499225],\n",
       "       [ 0.6220413 , -0.02735015,  0.5197806 ]], dtype=float32)"
      ]
     },
     "execution_count": 5,
     "metadata": {},
     "output_type": "execute_result"
    }
   ],
   "source": [
    "#2*3 random norm matrix\n",
    "\n",
    "A = tf.truncated_normal([2,3])\n",
    "sess.run(A)"
   ]
  },
  {
   "cell_type": "code",
   "execution_count": 6,
   "metadata": {},
   "outputs": [
    {
     "data": {
      "text/plain": [
       "array([[5., 5., 5.],\n",
       "       [5., 5., 5.]], dtype=float32)"
      ]
     },
     "execution_count": 6,
     "metadata": {},
     "output_type": "execute_result"
    }
   ],
   "source": [
    "#2*3 constant matrix\n",
    "\n",
    "B = tf.fill([2,3],5.0)\n",
    "sess.run(B)"
   ]
  },
  {
   "cell_type": "code",
   "execution_count": 7,
   "metadata": {},
   "outputs": [
    {
     "data": {
      "text/plain": [
       "array([[0.93289423, 0.13928688],\n",
       "       [0.26485205, 0.39993644],\n",
       "       [0.01669991, 0.8311732 ]], dtype=float32)"
      ]
     },
     "execution_count": 7,
     "metadata": {},
     "output_type": "execute_result"
    }
   ],
   "source": [
    "#3*2 random uniform matrix\n",
    "C = tf.random_uniform([3,2])\n",
    "sess.run(C)"
   ]
  },
  {
   "cell_type": "code",
   "execution_count": 15,
   "metadata": {},
   "outputs": [
    {
     "data": {
      "text/plain": [
       "array([[1., 2., 3.],\n",
       "       [4., 5., 6.],\n",
       "       [6., 7., 8.]])"
      ]
     },
     "execution_count": 15,
     "metadata": {},
     "output_type": "execute_result"
    }
   ],
   "source": [
    "#create matrix from numpy array \n",
    "D= tf.convert_to_tensor(np.array([[1.0,2.0,3.0],[4.0,5.0,6.0],[6.0,7.0,8.0]]))\n",
    "sess.run(D)"
   ]
  },
  {
   "cell_type": "code",
   "execution_count": 10,
   "metadata": {},
   "outputs": [
    {
     "name": "stdout",
     "output_type": "stream",
     "text": [
      "[[4.7672644 4.928859  5.387773 ]\n",
      " [6.527652  4.5702167 5.149188 ]]\n",
      "[[-4.589452  -6.3439655 -4.1770205]\n",
      " [-4.1953583 -6.9855695 -5.4097   ]]\n"
     ]
    }
   ],
   "source": [
    "#matrix addition\\ substraction\n",
    "print(sess.run(A+B))\n",
    "print(sess.run(A-B))"
   ]
  },
  {
   "cell_type": "code",
   "execution_count": 11,
   "metadata": {},
   "outputs": [
    {
     "data": {
      "text/plain": [
       "array([[5., 5., 5.],\n",
       "       [5., 5., 5.]], dtype=float32)"
      ]
     },
     "execution_count": 11,
     "metadata": {},
     "output_type": "execute_result"
    }
   ],
   "source": [
    "#matrix multiplication\n",
    "\n",
    "sess.run(tf.matmul(B,id_mat))"
   ]
  },
  {
   "cell_type": "code",
   "execution_count": 13,
   "metadata": {},
   "outputs": [
    {
     "data": {
      "text/plain": [
       "array([[0.62507796, 0.31981957, 0.42574966],\n",
       "       [0.1685834 , 0.72899365, 0.7394841 ]], dtype=float32)"
      ]
     },
     "execution_count": 13,
     "metadata": {},
     "output_type": "execute_result"
    }
   ],
   "source": [
    "#matrix transpose\n",
    "sess.run(tf.transpose(C))"
   ]
  },
  {
   "cell_type": "code",
   "execution_count": 16,
   "metadata": {},
   "outputs": [
    {
     "data": {
      "text/plain": [
       "-3.885780586188069e-15"
      ]
     },
     "execution_count": 16,
     "metadata": {},
     "output_type": "execute_result"
    }
   ],
   "source": [
    "#matrx determinant\n",
    "\n",
    "sess.run(tf.matrix_determinant(D))"
   ]
  },
  {
   "cell_type": "code",
   "execution_count": 17,
   "metadata": {},
   "outputs": [
    {
     "data": {
      "text/plain": [
       "array([[ 5.14697100e+14, -1.28674275e+15,  7.72045650e+14],\n",
       "       [-1.02939420e+15,  2.57348550e+15, -1.54409130e+15],\n",
       "       [ 5.14697100e+14, -1.28674275e+15,  7.72045650e+14]])"
      ]
     },
     "execution_count": 17,
     "metadata": {},
     "output_type": "execute_result"
    }
   ],
   "source": [
    "#matrx inverse\n",
    "\n",
    "sess.run(tf.matrix_inverse(D))"
   ]
  },
  {
   "cell_type": "code",
   "execution_count": 18,
   "metadata": {},
   "outputs": [
    {
     "data": {
      "text/plain": [
       "array([[1., 0., 0.],\n",
       "       [0., 1., 0.],\n",
       "       [0., 0., 1.]], dtype=float32)"
      ]
     },
     "execution_count": 18,
     "metadata": {},
     "output_type": "execute_result"
    }
   ],
   "source": [
    "#cholesky decomposition\n",
    "sess.run(tf.cholesky(id_mat))"
   ]
  },
  {
   "cell_type": "code",
   "execution_count": 19,
   "metadata": {},
   "outputs": [
    {
     "data": {
      "text/plain": [
       "(array([-2.4463372 , -0.45941254, 16.90574974]),\n",
       " array([[ 0.86525321,  0.28571346,  0.41195231],\n",
       "        [ 0.0064518 , -0.82798841,  0.56070809],\n",
       "        [-0.50129359,  0.48249664,  0.718263  ]]))"
      ]
     },
     "execution_count": 19,
     "metadata": {},
     "output_type": "execute_result"
    }
   ],
   "source": [
    "#eig value & vector\n",
    "\n",
    "sess.run(tf.self_adjoint_eig(D))"
   ]
  },
  {
   "cell_type": "code",
   "execution_count": 21,
   "metadata": {},
   "outputs": [
    {
     "name": "stdout",
     "output_type": "stream",
     "text": [
      "100 >>> [1 2 3] >>>> [[1 2 3]\n",
      " [4 5 6]\n",
      " [6 7 8]]\n"
     ]
    }
   ],
   "source": [
    "#constant & variables & placeholder\n",
    "\"\"\"constant--tf.constant(value,dtype=None,shape=None,name='Const',verify_shape=False,)\"\"\"\n",
    "conscalar = tf.constant(100)\n",
    "convector = tf.constant([1,2,3])\n",
    "conmatrix = tf.constant([[1,2,3],[4,5,6],[6,7,8]])\n",
    "print(sess.run(conscalar),\">>>\", sess.run(convector), \">>>>\", sess.run(conmatrix))"
   ]
  },
  {
   "cell_type": "code",
   "execution_count": 27,
   "metadata": {},
   "outputs": [
    {
     "name": "stdout",
     "output_type": "stream",
     "text": [
      "[3.0, 4.0]\n"
     ]
    }
   ],
   "source": [
    "con1 = tf.constant(3.0,tf.float32)\n",
    "con2 = tf.constant(4.0)\n",
    "print(sess.run([con1,con2]))"
   ]
  },
  {
   "cell_type": "code",
   "execution_count": 32,
   "metadata": {},
   "outputs": [
    {
     "name": "stdout",
     "output_type": "stream",
     "text": [
      "12.0\n"
     ]
    },
    {
     "data": {
      "text/plain": [
       "array([[10., 10., 10.],\n",
       "       [10., 10., 10.],\n",
       "       [10., 10., 10.]], dtype=float32)"
      ]
     },
     "execution_count": 32,
     "metadata": {},
     "output_type": "execute_result"
    }
   ],
   "source": [
    "con3 = con1*con2\n",
    "print(sess.run(con3))\n",
    "\n",
    "con4 = tf.constant(10, dtype=tf.float32, shape=[3,3])\n",
    "sess.run(con4)"
   ]
  },
  {
   "cell_type": "code",
   "execution_count": 34,
   "metadata": {},
   "outputs": [
    {
     "data": {
      "text/plain": [
       "5"
      ]
     },
     "execution_count": 34,
     "metadata": {},
     "output_type": "execute_result"
    }
   ],
   "source": [
    "#placeholder \n",
    "\"\"\" placeholder---tf.placeholder(dtype, shape=None, name=None)\"\"\"\n",
    "\"\"\"placeholder is used to call the data from outside\"\"\"\n",
    "a= 2\n",
    "b= 3\n",
    "pla = tf.placeholder(dtype=tf.float32, shape=(a,b))\n",
    "pla1 = tf.add(a,b)\n",
    "data = np.random.rand(a,b)\n",
    "sess.run(pla1, feed_dict={pla:data})\n"
   ]
  },
  {
   "cell_type": "code",
   "execution_count": 35,
   "metadata": {},
   "outputs": [
    {
     "data": {
      "text/plain": [
       "array([33., 37.], dtype=float32)"
      ]
     },
     "execution_count": 35,
     "metadata": {},
     "output_type": "execute_result"
    }
   ],
   "source": [
    "pla2 = tf.placeholder(dtype=tf.float32)\n",
    "pla3 = tf.placeholder(dtype=tf.float32)\n",
    "\n",
    "add_pla = tf.add(pla2,pla3)\n",
    "sess.run(add_pla, feed_dict={pla2:[10,12], pla3:[23,25]})"
   ]
  },
  {
   "cell_type": "code",
   "execution_count": 36,
   "metadata": {},
   "outputs": [
    {
     "data": {
      "text/plain": [
       "'w = tf.Variable(<initial-value>, name=<optional-name>)'"
      ]
     },
     "execution_count": 36,
     "metadata": {},
     "output_type": "execute_result"
    }
   ],
   "source": [
    "# Variables\n",
    "\"\"\" variables used for update the value\"\"\"\n",
    "\"\"\"w = tf.Variable(<initial-value>, name=<optional-name>)\"\"\"\n",
    "#var = tf.Variable([0.01])"
   ]
  },
  {
   "cell_type": "code",
   "execution_count": null,
   "metadata": {},
   "outputs": [],
   "source": []
  }
 ],
 "metadata": {
  "kernelspec": {
   "display_name": "Python 3",
   "language": "python",
   "name": "python3"
  },
  "language_info": {
   "codemirror_mode": {
    "name": "ipython",
    "version": 3
   },
   "file_extension": ".py",
   "mimetype": "text/x-python",
   "name": "python",
   "nbconvert_exporter": "python",
   "pygments_lexer": "ipython3",
   "version": "3.7.3"
  }
 },
 "nbformat": 4,
 "nbformat_minor": 2
}
